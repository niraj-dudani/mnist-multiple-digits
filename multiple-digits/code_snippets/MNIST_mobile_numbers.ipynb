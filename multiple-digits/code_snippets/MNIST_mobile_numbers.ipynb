{
 "cells": [
  {
   "cell_type": "code",
   "execution_count": 36,
   "metadata": {
    "collapsed": true
   },
   "outputs": [],
   "source": [
    "%matplotlib inline\n",
    "import matplotlib.pyplot as plt\n",
    "import matplotlib.image as mpimg\n",
    "import numpy as np"
   ]
  },
  {
   "cell_type": "code",
   "execution_count": 37,
   "metadata": {
    "collapsed": true
   },
   "outputs": [],
   "source": [
    "img1=mpimg.imread('phonenum1.jpeg')\n",
    "img2=mpimg.imread('phonenum2.jpeg')\n",
    "img3=mpimg.imread('phonenum3.jpeg')\n",
    "img4=mpimg.imread('phonenum4.jpeg')"
   ]
  },
  {
   "cell_type": "code",
   "execution_count": 49,
   "metadata": {
    "collapsed": true
   },
   "outputs": [],
   "source": [
    "grayimg1 = np.dot(img1, [0.299, 0.587, 0.114])\n",
    "grayimg2 = np.dot(img2, [0.299, 0.587, 0.114])\n",
    "grayimg3 = np.dot(img3, [0.299, 0.587, 0.114])\n",
    "grayimg4 = np.dot(img4, [0.299, 0.587, 0.114])\n"
   ]
  },
  {
   "cell_type": "code",
   "execution_count": 50,
   "metadata": {
    "collapsed": true
   },
   "outputs": [],
   "source": [
    "imgparts1 = np.split(grayimg1, 10, 1)\n",
    "imgparts2 = np.split(grayimg2, 10, 1)\n",
    "imgparts3 = np.split(grayimg3, 10, 1)\n",
    "imgparts4 = np.split(grayimg4, 10, 1)"
   ]
  },
  {
   "cell_type": "code",
   "execution_count": null,
   "metadata": {
    "collapsed": true
   },
   "outputs": [],
   "source": []
  }
 ],
 "metadata": {
  "kernelspec": {
   "display_name": "Python 3",
   "language": "python",
   "name": "python3"
  },
  "language_info": {
   "codemirror_mode": {
    "name": "ipython",
    "version": 3
   },
   "file_extension": ".py",
   "mimetype": "text/x-python",
   "name": "python",
   "nbconvert_exporter": "python",
   "pygments_lexer": "ipython3",
   "version": "3.6.3"
  }
 },
 "nbformat": 4,
 "nbformat_minor": 2
}
